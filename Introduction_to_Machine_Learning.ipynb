{
  "nbformat": 4,
  "nbformat_minor": 0,
  "metadata": {
    "colab": {
      "name": "Introduction-to-Machine-Learning",
      "provenance": [],
      "authorship_tag": "ABX9TyPTDieJhxMorUVFoMjEslC5",
      "include_colab_link": true
    },
    "kernelspec": {
      "name": "python3",
      "display_name": "Python 3"
    },
    "language_info": {
      "name": "python"
    }
  },
  "cells": [
    {
      "cell_type": "markdown",
      "metadata": {
        "id": "view-in-github",
        "colab_type": "text"
      },
      "source": [
        "<a href=\"https://colab.research.google.com/github/nirans2002/Introduction-to-Machine-Learning/blob/main/Introduction_to_Machine_Learning.ipynb\" target=\"_parent\"><img src=\"https://colab.research.google.com/assets/colab-badge.svg\" alt=\"Open In Colab\"/></a>"
      ]
    },
    {
      "cell_type": "code",
      "metadata": {
        "colab": {
          "base_uri": "https://localhost:8080/"
        },
        "id": "Y7RksvSDj_ff",
        "outputId": "3243a77b-8a53-4f09-91a3-648d7f0910be"
      },
      "source": [
        "!git clone https://github.com/nirans2002/Introduction-to-Machine-Learning.git\n",
        "!git init\n",
        "!ls\n",
        "!cd Introduction-to-Machine-Learning\n",
        "!touch test.py\n",
        "!ls"
      ],
      "execution_count": 13,
      "outputs": [
        {
          "output_type": "stream",
          "text": [
            "fatal: destination path 'Introduction-to-Machine-Learning' already exists and is not an empty directory.\n",
            "Reinitialized existing Git repository in /content/.git/\n",
            "Introduction-to-Machine-Learning  sample_data  test.py\n",
            "Introduction-to-Machine-Learning  sample_data  test.py\n"
          ],
          "name": "stdout"
        }
      ]
    },
    {
      "cell_type": "code",
      "metadata": {
        "id": "lwn3S0NMm3pk"
      },
      "source": [
        "!git config --global user.email \"nirans2002@gmail.com\"\n",
        "!git config --global user.name \"Niran S Narayanan\""
      ],
      "execution_count": 17,
      "outputs": []
    },
    {
      "cell_type": "code",
      "metadata": {
        "colab": {
          "base_uri": "https://localhost:8080/"
        },
        "id": "Co-noRP2ladc",
        "outputId": "7909d7ca-7c6e-4aae-c373-941ea927b4fd"
      },
      "source": [
        "!git add --all\n",
        "!git commit -m \"test added\"\n",
        "!git push -u origin main "
      ],
      "execution_count": 18,
      "outputs": [
        {
          "output_type": "stream",
          "text": [
            "[master (root-commit) 4d70a82] test added\n",
            " 21 files changed, 50699 insertions(+)\n",
            " create mode 100644 .config/.last_opt_in_prompt.yaml\n",
            " create mode 100644 .config/.last_survey_prompt.yaml\n",
            " create mode 100644 .config/.last_update_check.json\n",
            " create mode 100644 .config/active_config\n",
            " create mode 100644 .config/config_sentinel\n",
            " create mode 100644 .config/configurations/config_default\n",
            " create mode 100644 .config/gce\n",
            " create mode 100644 .config/logs/2021.05.06/13.43.04.692209.log\n",
            " create mode 100644 .config/logs/2021.05.06/13.43.23.909017.log\n",
            " create mode 100644 .config/logs/2021.05.06/13.43.39.026092.log\n",
            " create mode 100644 .config/logs/2021.05.06/13.43.44.620859.log\n",
            " create mode 100644 .config/logs/2021.05.06/13.44.00.991142.log\n",
            " create mode 100644 .config/logs/2021.05.06/13.44.01.543195.log\n",
            " create mode 160000 Introduction-to-Machine-Learning\n",
            " create mode 100755 sample_data/README.md\n",
            " create mode 100755 sample_data/anscombe.json\n",
            " create mode 100644 sample_data/california_housing_test.csv\n",
            " create mode 100644 sample_data/california_housing_train.csv\n",
            " create mode 100644 sample_data/mnist_test.csv\n",
            " create mode 100644 sample_data/mnist_train_small.csv\n",
            " create mode 100644 test.py\n",
            "error: src refspec main does not match any.\n",
            "error: failed to push some refs to 'origin'\n"
          ],
          "name": "stdout"
        }
      ]
    }
  ]
}